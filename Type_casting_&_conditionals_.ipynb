{
  "nbformat": 4,
  "nbformat_minor": 0,
  "metadata": {
    "colab": {
      "provenance": []
    },
    "kernelspec": {
      "name": "python3",
      "display_name": "Python 3"
    },
    "language_info": {
      "name": "python"
    }
  },
  "cells": [
    {
      "cell_type": "code",
      "execution_count": null,
      "metadata": {
        "id": "YACjGhWsuGro"
      },
      "outputs": [],
      "source": [
        "a = 5\n"
      ]
    },
    {
      "cell_type": "code",
      "source": [
        "type(a)"
      ],
      "metadata": {
        "colab": {
          "base_uri": "https://localhost:8080/"
        },
        "id": "9UhP9heDuoOY",
        "outputId": "338374df-9ba2-4453-a6d5-009723286968"
      },
      "execution_count": null,
      "outputs": [
        {
          "output_type": "execute_result",
          "data": {
            "text/plain": [
              "int"
            ]
          },
          "metadata": {},
          "execution_count": 2
        }
      ]
    },
    {
      "cell_type": "code",
      "source": [
        "b = 5.6"
      ],
      "metadata": {
        "id": "U1dOYYRXur1M"
      },
      "execution_count": null,
      "outputs": []
    },
    {
      "cell_type": "code",
      "source": [
        "type (b)"
      ],
      "metadata": {
        "colab": {
          "base_uri": "https://localhost:8080/"
        },
        "id": "5BHIpRw-uyHJ",
        "outputId": "3fb0472c-cf23-4389-a809-fc5a6128ca19"
      },
      "execution_count": null,
      "outputs": [
        {
          "output_type": "execute_result",
          "data": {
            "text/plain": [
              "float"
            ]
          },
          "metadata": {},
          "execution_count": 5
        }
      ]
    },
    {
      "cell_type": "code",
      "source": [
        "\"2\"+ 3"
      ],
      "metadata": {
        "colab": {
          "base_uri": "https://localhost:8080/",
          "height": 145
        },
        "id": "UMQqkj-4u2KP",
        "outputId": "d0b76dd3-ab86-45b9-d182-1874aef6ce71"
      },
      "execution_count": null,
      "outputs": [
        {
          "output_type": "error",
          "ename": "TypeError",
          "evalue": "can only concatenate str (not \"int\") to str",
          "traceback": [
            "\u001b[0;31m---------------------------------------------------------------------------\u001b[0m",
            "\u001b[0;31mTypeError\u001b[0m                                 Traceback (most recent call last)",
            "\u001b[0;32m/tmp/ipython-input-6-3239350016.py\u001b[0m in \u001b[0;36m<cell line: 0>\u001b[0;34m()\u001b[0m\n\u001b[0;32m----> 1\u001b[0;31m \u001b[0;34m\"2\"\u001b[0m\u001b[0;34m+\u001b[0m \u001b[0;36m3\u001b[0m\u001b[0;34m\u001b[0m\u001b[0;34m\u001b[0m\u001b[0m\n\u001b[0m",
            "\u001b[0;31mTypeError\u001b[0m: can only concatenate str (not \"int\") to str"
          ]
        }
      ]
    },
    {
      "cell_type": "code",
      "source": [
        "type(\"2\")"
      ],
      "metadata": {
        "colab": {
          "base_uri": "https://localhost:8080/"
        },
        "id": "7x_7KkOku41O",
        "outputId": "4c16b977-9159-402a-9ab2-6bff56a15362"
      },
      "execution_count": null,
      "outputs": [
        {
          "output_type": "execute_result",
          "data": {
            "text/plain": [
              "str"
            ]
          },
          "metadata": {},
          "execution_count": 7
        }
      ]
    },
    {
      "cell_type": "code",
      "source": [
        "# Type castimh /Type conversion"
      ],
      "metadata": {
        "id": "WD1xwlNIvBDH"
      },
      "execution_count": null,
      "outputs": []
    },
    {
      "cell_type": "code",
      "source": [
        "a = \"2\"\n",
        "b = 3\n",
        "a = b"
      ],
      "metadata": {
        "id": "-YoExwTXumAY"
      },
      "execution_count": null,
      "outputs": []
    },
    {
      "cell_type": "code",
      "source": [
        "type(a)"
      ],
      "metadata": {
        "colab": {
          "base_uri": "https://localhost:8080/"
        },
        "id": "G-Vv8cQ8wHc4",
        "outputId": "80549ba1-e498-4b52-a700-5395f80b30b0"
      },
      "execution_count": null,
      "outputs": [
        {
          "output_type": "execute_result",
          "data": {
            "text/plain": [
              "int"
            ]
          },
          "metadata": {},
          "execution_count": 9
        }
      ]
    },
    {
      "cell_type": "code",
      "source": [
        "int(a)+b"
      ],
      "metadata": {
        "colab": {
          "base_uri": "https://localhost:8080/"
        },
        "id": "vlpi3YJ1wJmv",
        "outputId": "9b6a5fc7-8bb3-4626-c2b3-75da273e3463"
      },
      "execution_count": null,
      "outputs": [
        {
          "output_type": "execute_result",
          "data": {
            "text/plain": [
              "6"
            ]
          },
          "metadata": {},
          "execution_count": 10
        }
      ]
    },
    {
      "cell_type": "code",
      "source": [
        "a = 3.4\n",
        "type(a)"
      ],
      "metadata": {
        "colab": {
          "base_uri": "https://localhost:8080/"
        },
        "id": "sIVshduowUdp",
        "outputId": "c85ed88f-3b50-4a6c-da22-ca96d3f4e0d5"
      },
      "execution_count": null,
      "outputs": [
        {
          "output_type": "execute_result",
          "data": {
            "text/plain": [
              "float"
            ]
          },
          "metadata": {},
          "execution_count": 11
        }
      ]
    },
    {
      "cell_type": "code",
      "source": [
        "int(a)"
      ],
      "metadata": {
        "colab": {
          "base_uri": "https://localhost:8080/"
        },
        "id": "8TFO_hAXuvwJ",
        "outputId": "60bccfdc-cb97-49d1-c840-21d3b977238c"
      },
      "execution_count": null,
      "outputs": [
        {
          "output_type": "execute_result",
          "data": {
            "text/plain": [
              "3"
            ]
          },
          "metadata": {},
          "execution_count": 12
        }
      ]
    },
    {
      "cell_type": "code",
      "source": [
        "b = 6.78\n",
        "type(b)\n",
        "float_value = int(b)\n",
        "type(float_value)"
      ],
      "metadata": {
        "colab": {
          "base_uri": "https://localhost:8080/"
        },
        "id": "Hn7M6l4Ywrtl",
        "outputId": "0047a9e8-a6c1-4fdd-aeba-741d109bb22f"
      },
      "execution_count": null,
      "outputs": [
        {
          "output_type": "execute_result",
          "data": {
            "text/plain": [
              "int"
            ]
          },
          "metadata": {},
          "execution_count": 17
        }
      ]
    },
    {
      "cell_type": "code",
      "source": [
        "# integer to float\n",
        "a = 2\n",
        "type(a)"
      ],
      "metadata": {
        "colab": {
          "base_uri": "https://localhost:8080/"
        },
        "id": "AoDU6tU8w7c-",
        "outputId": "65d4f93c-cbdf-4c15-e33b-819db4e7e56d"
      },
      "execution_count": null,
      "outputs": [
        {
          "output_type": "execute_result",
          "data": {
            "text/plain": [
              "int"
            ]
          },
          "metadata": {},
          "execution_count": 18
        }
      ]
    },
    {
      "cell_type": "code",
      "source": [
        "b = float(a)\n",
        "b"
      ],
      "metadata": {
        "colab": {
          "base_uri": "https://localhost:8080/"
        },
        "id": "MZffNTbExD6m",
        "outputId": "70ed43c2-3e93-4b66-b4dc-fe03b3d17b82"
      },
      "execution_count": null,
      "outputs": [
        {
          "output_type": "execute_result",
          "data": {
            "text/plain": [
              "2.0"
            ]
          },
          "metadata": {},
          "execution_count": 19
        }
      ]
    },
    {
      "cell_type": "code",
      "source": [
        "a = \"ajay\"\n",
        "type(a)"
      ],
      "metadata": {
        "colab": {
          "base_uri": "https://localhost:8080/"
        },
        "id": "nwrDT2LYxH2i",
        "outputId": "75657271-b3dd-4e08-8422-36889d35d4c0"
      },
      "execution_count": null,
      "outputs": [
        {
          "output_type": "execute_result",
          "data": {
            "text/plain": [
              "str"
            ]
          },
          "metadata": {},
          "execution_count": 20
        }
      ]
    },
    {
      "cell_type": "code",
      "source": [
        "int(a)"
      ],
      "metadata": {
        "colab": {
          "base_uri": "https://localhost:8080/",
          "height": 145
        },
        "id": "46w4ze2SxpO3",
        "outputId": "3973ebb0-2483-41e1-a553-aaf0d0e419dc"
      },
      "execution_count": null,
      "outputs": [
        {
          "output_type": "error",
          "ename": "ValueError",
          "evalue": "invalid literal for int() with base 10: 'ajay'",
          "traceback": [
            "\u001b[0;31m---------------------------------------------------------------------------\u001b[0m",
            "\u001b[0;31mValueError\u001b[0m                                Traceback (most recent call last)",
            "\u001b[0;32m/tmp/ipython-input-21-766485689.py\u001b[0m in \u001b[0;36m<cell line: 0>\u001b[0;34m()\u001b[0m\n\u001b[0;32m----> 1\u001b[0;31m \u001b[0mint\u001b[0m\u001b[0;34m(\u001b[0m\u001b[0ma\u001b[0m\u001b[0;34m)\u001b[0m\u001b[0;34m\u001b[0m\u001b[0;34m\u001b[0m\u001b[0m\n\u001b[0m",
            "\u001b[0;31mValueError\u001b[0m: invalid literal for int() with base 10: 'ajay'"
          ]
        }
      ]
    },
    {
      "cell_type": "code",
      "source": [
        "# integer to string"
      ],
      "metadata": {
        "id": "ljKlUwoFxx0k"
      },
      "execution_count": null,
      "outputs": []
    },
    {
      "cell_type": "code",
      "source": [
        "a = 5\n",
        "type(a)"
      ],
      "metadata": {
        "colab": {
          "base_uri": "https://localhost:8080/"
        },
        "id": "crQr1cmnw3sy",
        "outputId": "ce5452c6-3228-4820-d004-9b855c89221c"
      },
      "execution_count": null,
      "outputs": [
        {
          "output_type": "execute_result",
          "data": {
            "text/plain": [
              "int"
            ]
          },
          "metadata": {},
          "execution_count": 22
        }
      ]
    },
    {
      "cell_type": "code",
      "source": [
        "a"
      ],
      "metadata": {
        "colab": {
          "base_uri": "https://localhost:8080/"
        },
        "id": "sGfEI3nswwJg",
        "outputId": "8d74c60c-64d9-4c2b-99be-73450902936b"
      },
      "execution_count": null,
      "outputs": [
        {
          "output_type": "execute_result",
          "data": {
            "text/plain": [
              "5"
            ]
          },
          "metadata": {},
          "execution_count": 23
        }
      ]
    },
    {
      "cell_type": "code",
      "source": [
        "c = str(a)"
      ],
      "metadata": {
        "id": "pXUhWaQVx_px"
      },
      "execution_count": null,
      "outputs": []
    },
    {
      "cell_type": "code",
      "source": [
        "c"
      ],
      "metadata": {
        "colab": {
          "base_uri": "https://localhost:8080/",
          "height": 36
        },
        "id": "lZGY1oCTyBok",
        "outputId": "4652a0c3-af1b-4e6c-8e50-21ff0cd576cd"
      },
      "execution_count": null,
      "outputs": [
        {
          "output_type": "execute_result",
          "data": {
            "text/plain": [
              "'5'"
            ],
            "application/vnd.google.colaboratory.intrinsic+json": {
              "type": "string"
            }
          },
          "metadata": {},
          "execution_count": 25
        }
      ]
    },
    {
      "cell_type": "code",
      "source": [
        "type(c)"
      ],
      "metadata": {
        "colab": {
          "base_uri": "https://localhost:8080/"
        },
        "id": "cCcVfij7yD8r",
        "outputId": "21b587de-21cd-4b65-9065-ccff87a53f27"
      },
      "execution_count": null,
      "outputs": [
        {
          "output_type": "execute_result",
          "data": {
            "text/plain": [
              "str"
            ]
          },
          "metadata": {},
          "execution_count": 26
        }
      ]
    },
    {
      "cell_type": "code",
      "source": [
        "#implicit type casting\n",
        "2 + 3"
      ],
      "metadata": {
        "colab": {
          "base_uri": "https://localhost:8080/"
        },
        "id": "TD2mD4BoyFv3",
        "outputId": "12c2c74c-3552-4bf4-9e60-8ecaf659e7ae"
      },
      "execution_count": null,
      "outputs": [
        {
          "output_type": "execute_result",
          "data": {
            "text/plain": [
              "5"
            ]
          },
          "metadata": {},
          "execution_count": 27
        }
      ]
    },
    {
      "cell_type": "code",
      "source": [
        "2+3.5"
      ],
      "metadata": {
        "colab": {
          "base_uri": "https://localhost:8080/"
        },
        "id": "ZC30IFRLyoDS",
        "outputId": "a3f6b8b0-f8da-4d5b-963b-e02e8c9ad8f8"
      },
      "execution_count": null,
      "outputs": [
        {
          "output_type": "execute_result",
          "data": {
            "text/plain": [
              "5.5"
            ]
          },
          "metadata": {},
          "execution_count": 28
        }
      ]
    },
    {
      "cell_type": "code",
      "source": [
        "a = \"ajay\"\n",
        "b = \"kumar gupta\"\\a = b"
      ],
      "metadata": {
        "colab": {
          "base_uri": "https://localhost:8080/",
          "height": 109
        },
        "id": "8FDkbWaQyprM",
        "outputId": "7eadd5ff-2af0-4ea1-fef3-60b162bab92f"
      },
      "execution_count": null,
      "outputs": [
        {
          "output_type": "error",
          "ename": "SyntaxError",
          "evalue": "unexpected character after line continuation character (ipython-input-29-1661238448.py, line 2)",
          "traceback": [
            "\u001b[0;36m  File \u001b[0;32m\"/tmp/ipython-input-29-1661238448.py\"\u001b[0;36m, line \u001b[0;32m2\u001b[0m\n\u001b[0;31m    b = \"kumar gupta\"\\a = b\u001b[0m\n\u001b[0m                      ^\u001b[0m\n\u001b[0;31mSyntaxError\u001b[0m\u001b[0;31m:\u001b[0m unexpected character after line continuation character\n"
          ]
        }
      ]
    },
    {
      "cell_type": "code",
      "source": [
        "a = \"Ajay\"\n",
        "b = \"kumar gupta\"\n",
        "a = b"
      ],
      "metadata": {
        "id": "EaICLIIjzNTU"
      },
      "execution_count": null,
      "outputs": []
    },
    {
      "cell_type": "code",
      "source": [
        "\"100\" + \"ajay\""
      ],
      "metadata": {
        "colab": {
          "base_uri": "https://localhost:8080/",
          "height": 36
        },
        "id": "SNFYoLWDzq0H",
        "outputId": "38f9db09-8964-447f-defb-fb8239b5e241"
      },
      "execution_count": null,
      "outputs": [
        {
          "output_type": "execute_result",
          "data": {
            "text/plain": [
              "'100ajay'"
            ],
            "application/vnd.google.colaboratory.intrinsic+json": {
              "type": "string"
            }
          },
          "metadata": {},
          "execution_count": 38
        }
      ]
    },
    {
      "cell_type": "code",
      "source": [
        "bool(\"ajay\")"
      ],
      "metadata": {
        "colab": {
          "base_uri": "https://localhost:8080/"
        },
        "id": "lpC3OqCqz8YV",
        "outputId": "0380e01b-9ad7-4e90-add2-957fe9d337be"
      },
      "execution_count": null,
      "outputs": [
        {
          "output_type": "execute_result",
          "data": {
            "text/plain": [
              "True"
            ]
          },
          "metadata": {},
          "execution_count": 40
        }
      ]
    },
    {
      "cell_type": "code",
      "source": [
        "bool(\"\") # empty string"
      ],
      "metadata": {
        "colab": {
          "base_uri": "https://localhost:8080/"
        },
        "id": "RMOIdnkX0pO0",
        "outputId": "b193ee53-95eb-47ec-c684-3b76320dd3a5"
      },
      "execution_count": null,
      "outputs": [
        {
          "output_type": "execute_result",
          "data": {
            "text/plain": [
              "False"
            ]
          },
          "metadata": {},
          "execution_count": 41
        }
      ]
    },
    {
      "cell_type": "markdown",
      "source": [
        "*CONDITIONALS* 2/07/25"
      ],
      "metadata": {
        "id": "4IkhzLFh0--r"
      }
    },
    {
      "cell_type": "code",
      "source": [
        "# CONDITIONALS >> i will play cricket when the weather is sunny\n",
        "# loop statement >> keep checking out all the dishes in a buffet\n",
        "# break statement >> i will check out all the dishes until i gate pasta"
      ],
      "metadata": {
        "id": "PmdiQZYf0mwK"
      },
      "execution_count": null,
      "outputs": []
    },
    {
      "cell_type": "code",
      "source": [
        "#conditional statement >> helps you to code decision based on some precondition\n",
        "#if\n",
        "#if else\n",
        "#if elif (elseif)else\n",
        "# nested if else"
      ],
      "metadata": {
        "id": "vZHIGcWNzuWE"
      },
      "execution_count": null,
      "outputs": []
    },
    {
      "cell_type": "code",
      "source": [
        "# if statement\n",
        "# syntax\n",
        "# if condition true\n",
        "# block of code will be executed"
      ],
      "metadata": {
        "id": "L_cud7LFzlyP"
      },
      "execution_count": null,
      "outputs": []
    },
    {
      "cell_type": "code",
      "source": [
        "3 > 4"
      ],
      "metadata": {
        "colab": {
          "base_uri": "https://localhost:8080/"
        },
        "id": "jc_5w7ZnzmoN",
        "outputId": "8ff0934c-93f5-46d3-dc78-41b569fb9593"
      },
      "execution_count": null,
      "outputs": [
        {
          "output_type": "execute_result",
          "data": {
            "text/plain": [
              "False"
            ]
          },
          "metadata": {},
          "execution_count": 42
        }
      ]
    },
    {
      "cell_type": "code",
      "source": [
        "a = 100\n",
        "if a > 0:    #execute the if back , if the condition is true\n",
        "  print(\"the number is greater than 0\")\n"
      ],
      "metadata": {
        "colab": {
          "base_uri": "https://localhost:8080/"
        },
        "id": "KTTPu-fx3gFX",
        "outputId": "76d6b9b4-0622-4ebd-ef58-f6a1f43a9908"
      },
      "execution_count": null,
      "outputs": [
        {
          "output_type": "stream",
          "name": "stdout",
          "text": [
            "the number is greater than 0\n"
          ]
        }
      ]
    },
    {
      "cell_type": "code",
      "source": [
        "weather = \"rainy\"\n",
        "if weather == \"rainy\":\n",
        "  print(\"i will not play cricket\") # indentation (:) is necessary here"
      ],
      "metadata": {
        "colab": {
          "base_uri": "https://localhost:8080/"
        },
        "id": "1DuFej4PzilE",
        "outputId": "862c580b-b62b-41cd-d7f0-bbc5a382ee06"
      },
      "execution_count": null,
      "outputs": [
        {
          "output_type": "stream",
          "name": "stdout",
          "text": [
            "i will not play cricket\n"
          ]
        }
      ]
    },
    {
      "cell_type": "code",
      "source": [
        "sun = \"rise\"\n",
        "if sun == \"rise\":\n",
        "  print(\"sun rises in the east \")"
      ],
      "metadata": {
        "colab": {
          "base_uri": "https://localhost:8080/"
        },
        "id": "RDgPZTKd42EE",
        "outputId": "7b4c474f-2466-41bd-ee5d-93ec5706b19e"
      },
      "execution_count": null,
      "outputs": [
        {
          "output_type": "stream",
          "name": "stdout",
          "text": [
            "sun rises in the east \n"
          ]
        }
      ]
    },
    {
      "cell_type": "code",
      "source": [
        "grade = 8\n",
        "if(grade>= 8)\n"
      ],
      "metadata": {
        "id": "QSlmSuHQLjdL"
      },
      "execution_count": null,
      "outputs": []
    },
    {
      "cell_type": "code",
      "source": [
        "weather = \"rainy\"\n",
        "if weather == \"rainy\":\n",
        "  print(\"i will play cricket\")\n",
        "else :\n",
        "  print(\"i will watch tv \")"
      ],
      "metadata": {
        "id": "4PVf1Sbc5P1D",
        "colab": {
          "base_uri": "https://localhost:8080/"
        },
        "outputId": "a623a0bb-ead7-4db9-e547-edd380efdc7b"
      },
      "execution_count": null,
      "outputs": [
        {
          "output_type": "stream",
          "name": "stdout",
          "text": [
            "i will play cricket\n"
          ]
        }
      ]
    },
    {
      "cell_type": "code",
      "source": [
        "age = 17\n",
        "if age >= 18:\n",
        "  print(\"you will serve alchol\")\n",
        "else :\n",
        "  print(\"get out of the bar\")"
      ],
      "metadata": {
        "colab": {
          "base_uri": "https://localhost:8080/"
        },
        "id": "vV0-AiVXMXYx",
        "outputId": "bd3a9835-27f0-44cc-82a4-99f8609e7276"
      },
      "execution_count": null,
      "outputs": [
        {
          "output_type": "stream",
          "name": "stdout",
          "text": [
            "get out of the bar\n"
          ]
        }
      ]
    },
    {
      "cell_type": "code",
      "source": [
        "age = 19\n",
        "if age >= 18:\n",
        "  print(\"you will serve alchol\")\n",
        "else :\n",
        "  print(\"get out of the bar\")"
      ],
      "metadata": {
        "id": "WvrL2TRY5J9g",
        "colab": {
          "base_uri": "https://localhost:8080/"
        },
        "outputId": "ef0930bd-2c59-4297-b36c-e7dac997aa3a"
      },
      "execution_count": null,
      "outputs": [
        {
          "output_type": "stream",
          "name": "stdout",
          "text": [
            "you will serve alchol\n"
          ]
        }
      ]
    },
    {
      "cell_type": "code",
      "source": [
        "age = 19\n",
        "if age >+18:\n",
        "  print(\"you will get driving licence\")\n",
        "else :\n",
        "  print(\"donot drive\")"
      ],
      "metadata": {
        "id": "o-o9DJ7M5HsU",
        "colab": {
          "base_uri": "https://localhost:8080/"
        },
        "outputId": "b7d760b7-df4b-456c-ff65-0fbcd8a3f47f"
      },
      "execution_count": null,
      "outputs": [
        {
          "output_type": "stream",
          "name": "stdout",
          "text": [
            "you will get driving licence\n"
          ]
        }
      ]
    },
    {
      "cell_type": "code",
      "source": [
        "#to check if a no is even\n",
        "6 % 2"
      ],
      "metadata": {
        "colab": {
          "base_uri": "https://localhost:8080/"
        },
        "id": "ETvnbofZNidK",
        "outputId": "897c066d-76e2-4288-d3ca-bb05023ae8e0"
      },
      "execution_count": null,
      "outputs": [
        {
          "output_type": "execute_result",
          "data": {
            "text/plain": [
              "0"
            ]
          },
          "metadata": {},
          "execution_count": 10
        }
      ]
    },
    {
      "cell_type": "code",
      "source": [
        "score = 33\n",
        "if score>= 33 :\n",
        "  print(\"you will paas\")\n",
        "else :\n",
        "  print(\"fail\")"
      ],
      "metadata": {
        "colab": {
          "base_uri": "https://localhost:8080/"
        },
        "id": "7Faf489uN4Qk",
        "outputId": "286d49b6-aa37-4e54-d29d-8eebc3715caf"
      },
      "execution_count": null,
      "outputs": [
        {
          "output_type": "stream",
          "name": "stdout",
          "text": [
            "you will paas\n"
          ]
        }
      ]
    },
    {
      "cell_type": "code",
      "source": [
        "# if else >> two condition\n",
        "# in real life we can have multiple condition\n",
        "# syntax\n",
        "# if some condition\n",
        "# elif some condition\n",
        "# else"
      ],
      "metadata": {
        "id": "ZMDXNY2KOQqQ"
      },
      "execution_count": null,
      "outputs": []
    },
    {
      "cell_type": "code",
      "source": [
        "a = 10\n",
        "if a>100:\n",
        "  print(\"this block will be executed if a is greater than 100\")\n",
        "elif a < 100:\n",
        "  print(\"this block will be executed if a is lesser than 100\")\n",
        "else :\n",
        "  print(\"the number is equal to 100\")"
      ],
      "metadata": {
        "colab": {
          "base_uri": "https://localhost:8080/"
        },
        "id": "PvpC6Z6POVY8",
        "outputId": "a0c654e8-fc83-4b5e-df1b-b254498ab3fd"
      },
      "execution_count": null,
      "outputs": [
        {
          "output_type": "stream",
          "name": "stdout",
          "text": [
            "this block will be executed if a is lesser than 100\n"
          ]
        }
      ]
    },
    {
      "cell_type": "code",
      "source": [
        "score = 30\n",
        "if score>= 90 :\n",
        "  print(\"grade A\")\n",
        "elif (80<=score<90):\n",
        "  print(\"grade B\")\n",
        "else:\n",
        "  print(\"grade C\")\n"
      ],
      "metadata": {
        "colab": {
          "base_uri": "https://localhost:8080/"
        },
        "id": "E9EQoyxMPWLy",
        "outputId": "9de5a7b9-233a-49ed-bc5f-18e239835dd4"
      },
      "execution_count": null,
      "outputs": [
        {
          "output_type": "stream",
          "name": "stdout",
          "text": [
            "grade C\n"
          ]
        }
      ]
    },
    {
      "cell_type": "code",
      "source": [
        "age = 55\n",
        "if age <= 18:\n",
        "  print(\"student\")\n",
        "elif age == 30:\n",
        "  print(\"men\")\n",
        "else :\n",
        "  print(\"senior citizen\")\n"
      ],
      "metadata": {
        "colab": {
          "base_uri": "https://localhost:8080/"
        },
        "id": "PAdztybOQwld",
        "outputId": "5a8d96e7-8a5d-4fdb-c044-600d99ca3b27"
      },
      "execution_count": null,
      "outputs": [
        {
          "output_type": "stream",
          "name": "stdout",
          "text": [
            "senior citizen\n"
          ]
        }
      ]
    },
    {
      "cell_type": "code",
      "source": [
        "name = input(\"please enter your name\")\n",
        "email = input(\"please enter your email\")\n",
        "password = input(\"please enter your password\")\n",
        "\n",
        "if name == \"\":\n",
        "  print(\"please enter your valid name , name cannot be empty\")\n",
        "else :\n",
        "  if \"@\" not in email:\n",
        "    print(\"please enter a valid email\" )\n",
        "  else :\n",
        "    if len(paasword)<0 :\n",
        "      print(\"no paasword is entered \")\n",
        "    else:\n",
        "      print(\"login / registration successful\")"
      ],
      "metadata": {
        "id": "qaJrcM0gRkHc"
      },
      "execution_count": null,
      "outputs": []
    },
    {
      "cell_type": "markdown",
      "source": [
        "LOOPS"
      ],
      "metadata": {
        "id": "-L4i0l-GYOrp"
      }
    },
    {
      "cell_type": "code",
      "source": [
        "# loop statement>>"
      ],
      "metadata": {
        "id": "DG4ARSgAWVYz"
      },
      "execution_count": null,
      "outputs": []
    },
    {
      "cell_type": "code",
      "source": [
        "#while condition\n"
      ],
      "metadata": {
        "id": "0USjKCRTWWxP"
      },
      "execution_count": null,
      "outputs": []
    },
    {
      "cell_type": "code",
      "source": [
        "n = 7\n",
        "i = 1\n",
        "while i < n:\n",
        "  print(i)\n",
        "  i = i + 1"
      ],
      "metadata": {
        "colab": {
          "base_uri": "https://localhost:8080/"
        },
        "id": "nUTcztvSWRqW",
        "outputId": "d8ec3c41-4761-43bf-fdbb-a256a98fe597"
      },
      "execution_count": null,
      "outputs": [
        {
          "output_type": "stream",
          "name": "stdout",
          "text": [
            "1\n",
            "2\n",
            "3\n",
            "4\n",
            "5\n",
            "6\n"
          ]
        }
      ]
    },
    {
      "cell_type": "code",
      "source": [
        "count = 5\n",
        "while count > 0:\n",
        "  print(count)\n",
        "  count = count - 1\n",
        "\n"
      ],
      "metadata": {
        "colab": {
          "base_uri": "https://localhost:8080/"
        },
        "id": "-WT7UCY-WPXS",
        "outputId": "7f378536-5be0-4c66-993f-06e042bb9eb9"
      },
      "execution_count": null,
      "outputs": [
        {
          "output_type": "stream",
          "name": "stdout",
          "text": [
            "5\n",
            "4\n",
            "3\n",
            "2\n",
            "1\n"
          ]
        }
      ]
    },
    {
      "cell_type": "code",
      "source": [
        "n = 7\n",
        "i = 1\n",
        "while i < n:\n",
        "    print(i)\n",
        "    i = i+1\n",
        "else:\n",
        "    print(\"This will be executed when the while is run successfuly\")"
      ],
      "metadata": {
        "colab": {
          "base_uri": "https://localhost:8080/"
        },
        "id": "B1DjK0G3ZhiE",
        "outputId": "1d76b137-c495-4666-fe0d-42b7eb6c9d9c"
      },
      "execution_count": null,
      "outputs": [
        {
          "output_type": "stream",
          "name": "stdout",
          "text": [
            "1\n",
            "2\n",
            "3\n",
            "4\n",
            "5\n",
            "6\n",
            "This will be executed when the while is run successfuly\n"
          ]
        }
      ]
    },
    {
      "cell_type": "code",
      "source": [
        "#break terminates/exits the loop\n",
        "#The condition is met it will break loop\n",
        "n = 7\n",
        "i = 1\n",
        "while i < n:\n",
        "    print(i)\n",
        "    i = i+1\n",
        "    if i == 3:\n",
        "        break\n",
        "else:\n",
        "    print(\"This will be executed when the while is run successfuly without any break\")"
      ],
      "metadata": {
        "colab": {
          "base_uri": "https://localhost:8080/"
        },
        "id": "PiKSSk7uay7I",
        "outputId": "0b26d2a0-236a-43a6-e12a-8a202aacbbb4"
      },
      "execution_count": null,
      "outputs": [
        {
          "output_type": "stream",
          "name": "stdout",
          "text": [
            "1\n",
            "2\n"
          ]
        }
      ]
    },
    {
      "cell_type": "code",
      "source": [
        "#for loops >>iterate over a sequence of elements >> strings, list\n",
        "for i in \"pwskills\":\n",
        "    print(i)"
      ],
      "metadata": {
        "colab": {
          "base_uri": "https://localhost:8080/"
        },
        "id": "DGpEsze-a5T8",
        "outputId": "6201a5df-74de-4622-961e-92d21d14e0b4"
      },
      "execution_count": null,
      "outputs": [
        {
          "output_type": "stream",
          "name": "stdout",
          "text": [
            "p\n",
            "w\n",
            "s\n",
            "k\n",
            "i\n",
            "l\n",
            "l\n",
            "s\n"
          ]
        }
      ]
    },
    {
      "cell_type": "code",
      "source": [
        "type(i)"
      ],
      "metadata": {
        "colab": {
          "base_uri": "https://localhost:8080/"
        },
        "id": "68AEZFFsWFp9",
        "outputId": "3467d7e5-967d-47cd-ed15-48f7f15f1c07"
      },
      "execution_count": null,
      "outputs": [
        {
          "output_type": "execute_result",
          "data": {
            "text/plain": [
              "str"
            ]
          },
          "metadata": {},
          "execution_count": 44
        }
      ]
    },
    {
      "cell_type": "code",
      "source": [
        "a = \"pwskills\"\n",
        "for i in a:\n",
        "    print(i)"
      ],
      "metadata": {
        "colab": {
          "base_uri": "https://localhost:8080/"
        },
        "id": "5xXiBm7-WG_7",
        "outputId": "dbeb04a8-974b-4992-dd71-047b8955a684"
      },
      "execution_count": null,
      "outputs": [
        {
          "output_type": "stream",
          "name": "stdout",
          "text": [
            "p\n",
            "w\n",
            "s\n",
            "k\n",
            "i\n",
            "l\n",
            "l\n",
            "s\n"
          ]
        }
      ]
    },
    {
      "cell_type": "code",
      "source": [
        "l = [1,2, \"Ajay\", \"pwskills\"]\n",
        "for i in l:\n",
        "    print(i)"
      ],
      "metadata": {
        "colab": {
          "base_uri": "https://localhost:8080/"
        },
        "id": "CWaNSsADWJ1H",
        "outputId": "cdc7e4b8-2895-46be-95fe-857d4d37a140"
      },
      "execution_count": null,
      "outputs": [
        {
          "output_type": "stream",
          "name": "stdout",
          "text": [
            "1\n",
            "2\n",
            "Ajay\n",
            "pwskills\n"
          ]
        }
      ]
    },
    {
      "cell_type": "code",
      "source": [
        "for i in l:\n",
        "    print(i)\n",
        "else:\n",
        "    print(\"This will be executed when for loop ends without a break statment\")"
      ],
      "metadata": {
        "colab": {
          "base_uri": "https://localhost:8080/"
        },
        "id": "Mpr1_3OQWLxh",
        "outputId": "1647fcfa-a709-446c-93e5-861b5a518a59"
      },
      "execution_count": null,
      "outputs": [
        {
          "output_type": "stream",
          "name": "stdout",
          "text": [
            "1\n",
            "2\n",
            "Ajay\n",
            "pwskills\n",
            "This will be executed when for loop ends without a break statment\n"
          ]
        }
      ]
    },
    {
      "cell_type": "code",
      "source": [
        " list(range(0 , 10)) #it will give value from 0 to 9"
      ],
      "metadata": {
        "id": "bRmGEmVHV-l2",
        "colab": {
          "base_uri": "https://localhost:8080/"
        },
        "outputId": "0a2ddbf6-c08c-4d3c-872b-3b1a3bf315b9"
      },
      "execution_count": null,
      "outputs": [
        {
          "output_type": "execute_result",
          "data": {
            "text/plain": [
              "[0, 1, 2, 3, 4, 5, 6, 7, 8, 9]"
            ]
          },
          "metadata": {},
          "execution_count": 3
        }
      ]
    },
    {
      "cell_type": "code",
      "source": [
        "for i in range (10):\n",
        "  print(i,end=\" \")"
      ],
      "metadata": {
        "id": "76zGByshWAMt",
        "colab": {
          "base_uri": "https://localhost:8080/"
        },
        "outputId": "bbd06cd8-740a-499f-a9d9-83136af0cdd8"
      },
      "execution_count": null,
      "outputs": [
        {
          "output_type": "stream",
          "name": "stdout",
          "text": [
            "0 1 2 3 4 5 6 7 8 9 "
          ]
        }
      ]
    },
    {
      "cell_type": "code",
      "source": [
        "# syntax of range (start , stop , step)\n",
        "list(range(0 , 27 , 3))"
      ],
      "metadata": {
        "id": "1emUiS-GWCeY",
        "colab": {
          "base_uri": "https://localhost:8080/"
        },
        "outputId": "288fbb65-0865-416c-9f51-df5081a2dad4"
      },
      "execution_count": null,
      "outputs": [
        {
          "output_type": "execute_result",
          "data": {
            "text/plain": [
              "[0, 3, 6, 9, 12, 15, 18, 21, 24]"
            ]
          },
          "metadata": {},
          "execution_count": 13
        }
      ]
    },
    {
      "cell_type": "code",
      "source": [
        "# problem statement\n",
        "# print a right triangle with*"
      ],
      "metadata": {
        "id": "erG4uYw6WDsw"
      },
      "execution_count": null,
      "outputs": []
    },
    {
      "cell_type": "code",
      "source": [
        "print(\"*\")\n",
        "print(\"**\")\n",
        "print(\"***\")\n",
        "print(\"****\")"
      ],
      "metadata": {
        "id": "ow05aD5CV5ZH",
        "colab": {
          "base_uri": "https://localhost:8080/"
        },
        "outputId": "7ef75071-82d3-42e0-ed72-86023c887684"
      },
      "execution_count": null,
      "outputs": [
        {
          "output_type": "stream",
          "name": "stdout",
          "text": [
            "*\n",
            "**\n",
            "***\n",
            "****\n"
          ]
        }
      ]
    },
    {
      "cell_type": "code",
      "source": [
        "for i in range (4):\n",
        "  for j in range (i + 1):\n",
        "        print(\"*\" end = \" \")\n",
        "    print()"
      ],
      "metadata": {
        "id": "zpD-HzTNV2fo"
      },
      "execution_count": null,
      "outputs": []
    },
    {
      "cell_type": "markdown",
      "source": [
        "# New Section\n",
        "\n",
        "Introduction to python\n",
        "\n",
        "Python is a programming language that is easy to understand and write, making it a popular choice among developers and programmers.\n",
        "It is compatible with various programming paradigms, such as procedural, object-oriented, and functional programming.\n",
        "Python has a large and active community of developers, an extensive standard library, and third-party packages for various domains.\n",
        "Predefined keywords\n",
        "\n",
        "Keywords are reserved words in Python that have special meanings and cannot be used as identifiers (variable names, function names, etc.).\n",
        "Examples of keywords include if, else, while, for, def, class, import, try, except, return, True, False, None, etc.\n",
        "Keywords are case-sensitive and cannot be redefined or overridden within a Python program.\n",
        "Mutability & Immutability.\n",
        "\n",
        "In Python, objects can be either changeable (modifiable) or unchangeable (unchangeable).\n",
        "Mutable objects, such as lists and dictionaries, can be modified after creation, while immutable objects, such as tuples and strings, cannot.\n",
        "Mutability affects how objects are stored and manipulated in memory, impacting performance, memory usage, and concurrency in Python programs.\n",
        "Operators\n",
        "\n",
        "Operators are special symbols or keywords that are used to carry out specific actions on numbers or variables in Python expressions.\n",
        "Python supports various types of operators, including arithmetic operators (+, -, *, /), comparison operators (==, !=, <, >), logical operators (and, or, not), assignment operators (=, +=, -=, *=, /=), etc.\n",
        "Operators have precedence and associativity rules that determine the order of evaluation in expressions.\n",
        "Type Casting\n",
        "\n",
        "Type casting, also referred to as type conversion, is the process of changing one data type to another in Python.\n",
        "Python provides built-in functions for type casting, such as int(), float(), str(), list(), tuple(), dict(), etc.\n",
        "Type casting is often necessary for performing arithmetic operations, data manipulation, and input/output operations in Python programs.\n",
        "Conditionals\n",
        "Conditionals in Python are used to execute code based on the evaluation of one or more conditions.\n",
        "Python supports conditional statements such as if, elif (else if), and else to control the flow of execution.\n",
        "Conditionals can be nested to handle multiple conditions and control different branches of execution based on the outcome of logical expressions.\n",
        "Loops\n",
        "\n",
        "In Python, loops are employed to repeat a sequence of actions or code until a specific condition is fulfilled.\n",
        "Python offers two primary types of loops: for loops and while loops.\n",
        "“for” loops are used for iterating over a sequence of elements, while “while” loops are used for executing code until a specified condition becomes False"
      ],
      "metadata": {
        "id": "aRQYlMscFMbC"
      }
    },
    {
      "cell_type": "code",
      "source": [
        "x = 5\n",
        "y = 2\n",
        "print(x**y)"
      ],
      "metadata": {
        "id": "V4-Oh0iJCyS2"
      },
      "execution_count": null,
      "outputs": []
    },
    {
      "cell_type": "code",
      "source": [
        "[1, 2, 3, 4, 5] :\n",
        "print(len(\"num_list\"))"
      ],
      "metadata": {
        "id": "TKXGPYmUVyKs"
      },
      "execution_count": null,
      "outputs": []
    },
    {
      "cell_type": "code",
      "source": [
        "a = 5\n",
        "b = \"5\"\n",
        "print(a + int(b))"
      ],
      "metadata": {
        "id": "x1J8I9WYRgVd",
        "colab": {
          "base_uri": "https://localhost:8080/"
        },
        "outputId": "251c8f59-fb67-4fa9-fb78-ade78f914557"
      },
      "execution_count": null,
      "outputs": [
        {
          "output_type": "stream",
          "name": "stdout",
          "text": [
            "10\n"
          ]
        }
      ]
    },
    {
      "cell_type": "code",
      "source": [
        "x = [1, 2, 3]\n",
        " y = x  y append(4)\n",
        "  print(x)"
      ],
      "metadata": {
        "id": "0ELYJBXrReOY"
      },
      "execution_count": null,
      "outputs": []
    },
    {
      "cell_type": "code",
      "source": [
        " i in range(3, 0, -1):\n",
        "   print(i)"
      ],
      "metadata": {
        "id": "wFEePLTSRY8v"
      },
      "execution_count": null,
      "outputs": []
    },
    {
      "cell_type": "code",
      "source": [
        "list(range(3 , 0 , -1))"
      ],
      "metadata": {
        "id": "vUWNIrKWRUXR",
        "colab": {
          "base_uri": "https://localhost:8080/"
        },
        "outputId": "c84c9ea3-dd36-4daf-fdea-f72db183ca8b"
      },
      "execution_count": null,
      "outputs": [
        {
          "output_type": "execute_result",
          "data": {
            "text/plain": [
              "[3, 2, 1]"
            ]
          },
          "metadata": {},
          "execution_count": 42
        }
      ]
    },
    {
      "cell_type": "code",
      "source": [],
      "metadata": {
        "id": "P28-xJEZQoCw"
      },
      "execution_count": null,
      "outputs": []
    },
    {
      "cell_type": "code",
      "source": [
        "x = [1, 2, 3, 4, 5]\n",
        "y = x[1:4]\n",
        "print(y)"
      ],
      "metadata": {
        "id": "EWdy1UEaQnlR",
        "colab": {
          "base_uri": "https://localhost:8080/"
        },
        "outputId": "cc2ddb54-fe51-49fd-8024-cd3e0c92e43a"
      },
      "execution_count": null,
      "outputs": [
        {
          "output_type": "stream",
          "name": "stdout",
          "text": [
            "[2, 3, 4]\n"
          ]
        }
      ]
    },
    {
      "cell_type": "code",
      "source": [],
      "metadata": {
        "id": "tvkP7qlUQlY6"
      },
      "execution_count": null,
      "outputs": []
    },
    {
      "cell_type": "code",
      "source": [
        "text = \"Python\"\n",
        "print(text[::-1])"
      ],
      "metadata": {
        "id": "tppjdZlvQY5l",
        "colab": {
          "base_uri": "https://localhost:8080/"
        },
        "outputId": "08980e90-9609-4e0b-c6f5-3b87efc3c68b"
      },
      "execution_count": null,
      "outputs": [
        {
          "output_type": "stream",
          "name": "stdout",
          "text": [
            "nohtyP\n"
          ]
        }
      ]
    },
    {
      "cell_type": "code",
      "source": [],
      "metadata": {
        "id": "xZO9SsVTKKBi"
      },
      "execution_count": null,
      "outputs": []
    },
    {
      "cell_type": "code",
      "source": [],
      "metadata": {
        "id": "L1ba3Q7hN2Cs"
      },
      "execution_count": null,
      "outputs": []
    },
    {
      "cell_type": "code",
      "source": [
        "def add(a, b=5):\n",
        "  return a + b\n",
        "  print(add(3))"
      ],
      "metadata": {
        "id": "10HPSWjY4yI5"
      },
      "execution_count": null,
      "outputs": []
    },
    {
      "cell_type": "code",
      "source": [
        "print(type([]))"
      ],
      "metadata": {
        "id": "KX34LBSy4h83",
        "colab": {
          "base_uri": "https://localhost:8080/"
        },
        "outputId": "a12a7d71-a2a1-4113-8968-089833957dd8"
      },
      "execution_count": null,
      "outputs": [
        {
          "output_type": "stream",
          "name": "stdout",
          "text": [
            "<class 'list'>\n"
          ]
        }
      ]
    },
    {
      "cell_type": "code",
      "source": [],
      "metadata": {
        "id": "GrOY_OBozfuY"
      },
      "execution_count": null,
      "outputs": []
    },
    {
      "cell_type": "code",
      "source": [],
      "metadata": {
        "id": "G8o29gcFzcVz"
      },
      "execution_count": null,
      "outputs": []
    },
    {
      "cell_type": "code",
      "source": [],
      "metadata": {
        "id": "6YfdleDRzW4H"
      },
      "execution_count": null,
      "outputs": []
    }
  ]
}