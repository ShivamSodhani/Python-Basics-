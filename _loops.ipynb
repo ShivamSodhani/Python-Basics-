{
  "cells": [
    {
      "cell_type": "code",
      "execution_count": null,
      "id": "ca839afe-52fd-46a3-a520-86ece4f13a39",
      "metadata": {
        "id": "ca839afe-52fd-46a3-a520-86ece4f13a39"
      },
      "outputs": [],
      "source": [
        "#loop statement >> It allows you to execute a block of code repeatedly\n",
        "#loops >> while loop and for loops\n"
      ]
    },
    {
      "cell_type": "code",
      "execution_count": null,
      "id": "2750153f-8691-4199-a4e7-88dcf4d2c40c",
      "metadata": {
        "id": "2750153f-8691-4199-a4e7-88dcf4d2c40c"
      },
      "outputs": [],
      "source": [
        "#while>>repeatedly executed a block of code untill a condition is met"
      ]
    },
    {
      "cell_type": "code",
      "execution_count": null,
      "id": "6b8a81af-0e49-4990-b375-641a0b18f43f",
      "metadata": {
        "id": "6b8a81af-0e49-4990-b375-641a0b18f43f"
      },
      "outputs": [],
      "source": [
        "#syntax\n",
        "#while condition:\n",
        "#  block of code\n",
        "#>> while is a key word used for a while loop"
      ]
    },
    {
      "cell_type": "code",
      "execution_count": null,
      "id": "b4fac71f-0e82-48f3-a01e-5492dd7d6bed",
      "metadata": {
        "id": "b4fac71f-0e82-48f3-a01e-5492dd7d6bed",
        "outputId": "0a6d7aa7-f8a3-4c07-d7b8-eb197db59fe7",
        "colab": {
          "base_uri": "https://localhost:8080/"
        }
      },
      "outputs": [
        {
          "output_type": "stream",
          "name": "stdout",
          "text": [
            "2\n",
            "3\n",
            "4\n",
            "5\n",
            "6\n"
          ]
        }
      ],
      "source": [
        "n = 7\n",
        "i = 2\n",
        "while i < n:\n",
        "    print(i)\n",
        "    i = i+1"
      ]
    },
    {
      "cell_type": "markdown",
      "id": "04361b75-4ad9-4054-bbae-3a2b1fe075ba",
      "metadata": {
        "id": "04361b75-4ad9-4054-bbae-3a2b1fe075ba"
      },
      "source": [
        "![image.png](attachment:97f50340-e01e-4e8c-8ca5-b5d32f71bc82.png)"
      ]
    },
    {
      "cell_type": "code",
      "execution_count": null,
      "id": "9706c11d-52c6-422a-9f7a-794c71f919b0",
      "metadata": {
        "id": "9706c11d-52c6-422a-9f7a-794c71f919b0",
        "outputId": "8267850b-072f-4e84-a75f-32c30cc66eb3",
        "colab": {
          "base_uri": "https://localhost:8080/"
        }
      },
      "outputs": [
        {
          "output_type": "stream",
          "name": "stdout",
          "text": [
            "6\n",
            "5\n",
            "4\n",
            "3\n",
            "2\n",
            "1\n"
          ]
        }
      ],
      "source": [
        "count = 6\n",
        "while count > 0:\n",
        "    print(count)\n",
        "    count = count - 1"
      ]
    },
    {
      "cell_type": "code",
      "execution_count": null,
      "id": "e483e23f-4242-44e3-97c0-6e5946d3d99b",
      "metadata": {
        "id": "e483e23f-4242-44e3-97c0-6e5946d3d99b",
        "outputId": "80aaeb20-4e30-4903-890a-120e14ba639f"
      },
      "outputs": [
        {
          "name": "stdout",
          "output_type": "stream",
          "text": [
            "1\n",
            "2\n",
            "3\n",
            "4\n",
            "5\n",
            "6\n",
            "This will be executed when the while is run successfuly without any break\n"
          ]
        }
      ],
      "source": [
        "n = 7\n",
        "i = 1\n",
        "while i < n:\n",
        "    print(i)\n",
        "    i = i+1\n",
        "else:\n",
        "    print(\"This will be executed when the while is run successfuly without any break\")"
      ]
    },
    {
      "cell_type": "code",
      "execution_count": null,
      "id": "4c39b560-8ff9-4250-b492-f65b9ef35d3a",
      "metadata": {
        "id": "4c39b560-8ff9-4250-b492-f65b9ef35d3a",
        "outputId": "102a5e5c-f29a-404c-a3a6-feef53246b7b"
      },
      "outputs": [
        {
          "name": "stdout",
          "output_type": "stream",
          "text": [
            "1\n",
            "2\n"
          ]
        }
      ],
      "source": [
        "#break terminates/exits the loop\n",
        "#The condition is met it will break loop\n",
        "n = 7\n",
        "i = 1\n",
        "while i < n:\n",
        "    print(i)\n",
        "    i = i+1\n",
        "    if i == 3:\n",
        "        break\n",
        "else:\n",
        "    print(\"This will be executed when the while is run successfuly without any break\")"
      ]
    },
    {
      "cell_type": "code",
      "execution_count": null,
      "id": "a7bfff9a-7900-4cf4-b845-467ef474a7ca",
      "metadata": {
        "id": "a7bfff9a-7900-4cf4-b845-467ef474a7ca",
        "outputId": "4fac9ab6-9cad-4ac8-9fe6-3377b962da90"
      },
      "outputs": [
        {
          "name": "stdout",
          "output_type": "stream",
          "text": [
            "2\n",
            "4\n",
            "5\n",
            "6\n",
            "7\n",
            "This will be executed when the while is run successfuly without any break\n"
          ]
        }
      ],
      "source": [
        "#continue >> skips the iteration\n",
        "\n",
        "n = 7\n",
        "i = 1\n",
        "while i < n:\n",
        "    i = i+1\n",
        "    if i == 3:\n",
        "        continue\n",
        "    print(i)\n",
        "else:\n",
        "    print(\"This will be executed when the while is run successfuly without any break\")"
      ]
    },
    {
      "cell_type": "code",
      "execution_count": null,
      "id": "a8632a6b-f359-472d-b0f0-2bbe8e0241d4",
      "metadata": {
        "id": "a8632a6b-f359-472d-b0f0-2bbe8e0241d4",
        "outputId": "c7d97788-de9c-4deb-9df5-9ef3df47105f"
      },
      "outputs": [
        {
          "name": "stdout",
          "output_type": "stream",
          "text": [
            "p\n",
            "w\n",
            "s\n",
            "k\n",
            "i\n",
            "l\n",
            "l\n",
            "s\n"
          ]
        }
      ],
      "source": [
        "#for loops >>iterate over a sequence of elements >> strings, list\n",
        "for i in \"pwskills\":\n",
        "    print(i)"
      ]
    },
    {
      "cell_type": "code",
      "execution_count": null,
      "id": "e471aad0-b172-4754-a153-aadbcfb28b89",
      "metadata": {
        "id": "e471aad0-b172-4754-a153-aadbcfb28b89",
        "outputId": "198a9ce4-bb19-4d11-a3ce-ff9e29ee95f9"
      },
      "outputs": [
        {
          "name": "stdout",
          "output_type": "stream",
          "text": [
            "p\n",
            "w\n",
            "s\n",
            "k\n",
            "i\n",
            "l\n",
            "l\n",
            "s\n"
          ]
        }
      ],
      "source": [
        "a = \"pwskills\"\n",
        "for i in a:\n",
        "    print(i)"
      ]
    },
    {
      "cell_type": "markdown",
      "id": "b8009f29-7ded-4b4f-be62-1f904df12a97",
      "metadata": {
        "id": "b8009f29-7ded-4b4f-be62-1f904df12a97"
      },
      "source": [
        "![image.png](attachment:fdaa55a4-937a-46e0-b30f-76067657907f.png)"
      ]
    },
    {
      "cell_type": "code",
      "execution_count": null,
      "id": "5e91c51f-fbda-4864-9f9f-50975a4edcdd",
      "metadata": {
        "id": "5e91c51f-fbda-4864-9f9f-50975a4edcdd",
        "outputId": "31ab7543-a530-4fa2-a0de-86639b2606fb"
      },
      "outputs": [
        {
          "name": "stdout",
          "output_type": "stream",
          "text": [
            "1\n",
            "2\n",
            "Ajay\n",
            "pwskills\n"
          ]
        }
      ],
      "source": [
        "l = [1,2, \"Ajay\", \"pwskills\"]\n",
        "for i in l:\n",
        "    print(i)"
      ]
    },
    {
      "cell_type": "code",
      "execution_count": null,
      "id": "a1d0edfb-217d-49d7-81e6-8893f4458438",
      "metadata": {
        "id": "a1d0edfb-217d-49d7-81e6-8893f4458438",
        "outputId": "a87583c9-da4c-499f-cb58-d0424f16ec8a"
      },
      "outputs": [
        {
          "name": "stdout",
          "output_type": "stream",
          "text": [
            "1\n",
            "2\n",
            "Ajay\n",
            "pwskills\n",
            "This will be executed when for loop ends without a break statment\n"
          ]
        }
      ],
      "source": [
        "for i in l:\n",
        "    print(i)\n",
        "else:\n",
        "    print(\"This will be executed when for loop ends without a break statment\")"
      ]
    },
    {
      "cell_type": "code",
      "execution_count": null,
      "id": "a1a5c625-0149-4a47-8e22-a3e96fb2f50c",
      "metadata": {
        "id": "a1a5c625-0149-4a47-8e22-a3e96fb2f50c",
        "outputId": "c21fb1bd-6340-4b47-94d6-6cd919e295fe"
      },
      "outputs": [
        {
          "name": "stdout",
          "output_type": "stream",
          "text": [
            "1\n",
            "2\n"
          ]
        }
      ],
      "source": [
        "#break statement in for loop\n",
        "for i in l:\n",
        "    if i == \"Ajay\":\n",
        "        break\n",
        "    print(i)\n",
        "else:\n",
        "    print(\"This will be executed when for loop ends without a break statment\")"
      ]
    },
    {
      "cell_type": "code",
      "execution_count": null,
      "id": "69fb7579-9124-4b19-b347-a8641dcbb0c8",
      "metadata": {
        "id": "69fb7579-9124-4b19-b347-a8641dcbb0c8",
        "outputId": "946361a2-a0e4-461f-f269-5fa7d98bdb7e"
      },
      "outputs": [
        {
          "name": "stdout",
          "output_type": "stream",
          "text": [
            "1\n",
            "2\n",
            "pwskills\n",
            "This will be executed when for loop ends without a break statment\n"
          ]
        }
      ],
      "source": [
        "for i in l:\n",
        "    if i==\"Ajay\":\n",
        "        continue\n",
        "    print(i)\n",
        "else:\n",
        "    print(\"This will be executed when for loop ends without a break statment\")"
      ]
    },
    {
      "cell_type": "code",
      "execution_count": null,
      "id": "7768b178-cf6b-4e56-bf25-eb7bb93fa30f",
      "metadata": {
        "id": "7768b178-cf6b-4e56-bf25-eb7bb93fa30f",
        "outputId": "8ed40ff3-eab8-471a-e1ad-1a1797f58d5a"
      },
      "outputs": [
        {
          "data": {
            "text/plain": [
              "[0, 1, 2, 3, 4, 5, 6, 7, 8, 9]"
            ]
          },
          "execution_count": 16,
          "metadata": {},
          "output_type": "execute_result"
        }
      ],
      "source": [
        "list(range(0, 10)) #it will give value from 0 to 9"
      ]
    },
    {
      "cell_type": "code",
      "execution_count": null,
      "id": "720ae5ec-9188-4a6a-979a-c4f707733fef",
      "metadata": {
        "id": "720ae5ec-9188-4a6a-979a-c4f707733fef",
        "outputId": "c95c8e9f-7dde-4bd5-a239-051a06fa3077"
      },
      "outputs": [
        {
          "name": "stdout",
          "output_type": "stream",
          "text": [
            "0 1 2 3 4 5 6 7 8 9 "
          ]
        }
      ],
      "source": [
        "for i in range(10):\n",
        "    print(i, end=\" \")"
      ]
    },
    {
      "cell_type": "code",
      "execution_count": null,
      "id": "c6256175-731a-4aae-811a-9a2617d3b3c8",
      "metadata": {
        "id": "c6256175-731a-4aae-811a-9a2617d3b3c8"
      },
      "outputs": [],
      "source": [
        "for i in range(10):\n",
        "    print(i, end=\"#\")"
      ]
    },
    {
      "cell_type": "code",
      "execution_count": null,
      "id": "586a9070-4b74-4c07-a170-534a11761ab0",
      "metadata": {
        "id": "586a9070-4b74-4c07-a170-534a11761ab0",
        "outputId": "93b48102-0289-4ec5-b2c2-d0ce85a57f40"
      },
      "outputs": [
        {
          "data": {
            "text/plain": [
              "[0, 5, 10, 15, 20, 25, 30, 35, 40, 45, 50, 55, 60, 65, 70, 75, 80, 85, 90, 95]"
            ]
          },
          "execution_count": 26,
          "metadata": {},
          "output_type": "execute_result"
        }
      ],
      "source": [
        "#syntax of range(start, stop, step)\n",
        "list(range(0, 100, 5))"
      ]
    },
    {
      "cell_type": "code",
      "execution_count": null,
      "id": "7de2e8fc-5c5f-456f-b1ce-72808865ae6b",
      "metadata": {
        "id": "7de2e8fc-5c5f-456f-b1ce-72808865ae6b"
      },
      "outputs": [],
      "source": [
        "#problem statment\n",
        "#print a right triangle with *  using while loop"
      ]
    },
    {
      "cell_type": "code",
      "execution_count": null,
      "id": "2e33e53e-d236-4617-a096-a01ff3f82137",
      "metadata": {
        "id": "2e33e53e-d236-4617-a096-a01ff3f82137",
        "outputId": "7e4dfcce-4190-41e5-ef2c-1d8d0b45c208"
      },
      "outputs": [
        {
          "name": "stdout",
          "output_type": "stream",
          "text": [
            "*\n",
            "**\n",
            "***\n",
            "****\n"
          ]
        }
      ],
      "source": [
        "row = 1\n",
        "while row <= 4:\n",
        "    col = 1\n",
        "    while col <= row:\n",
        "        print(\"*\", end = \"\")\n",
        "        col = col+1\n",
        "    print()\n",
        "    row = row+1"
      ]
    },
    {
      "cell_type": "code",
      "execution_count": null,
      "id": "6867d45b-b8c1-4c4f-9206-9deda52c4886",
      "metadata": {
        "id": "6867d45b-b8c1-4c4f-9206-9deda52c4886"
      },
      "outputs": [],
      "source": [
        "#print a right triangle with *  using for loop"
      ]
    },
    {
      "cell_type": "code",
      "execution_count": null,
      "id": "03f66ffe-254b-4c42-ae24-24a0c6b4f09e",
      "metadata": {
        "id": "03f66ffe-254b-4c42-ae24-24a0c6b4f09e",
        "outputId": "7e02288a-57e7-4c1d-8a00-f7946aa36a47",
        "colab": {
          "base_uri": "https://localhost:8080/"
        }
      },
      "outputs": [
        {
          "output_type": "stream",
          "name": "stdout",
          "text": [
            "*  \n",
            "*  *  \n",
            "*  *  *  \n",
            "*  *  *  *  \n",
            "*  *  *  *  *  \n"
          ]
        }
      ],
      "source": [
        "for i in range(5):\n",
        "    for j in range(i+1):\n",
        "        print(\"*\", end = \"  \")\n",
        "    print()"
      ]
    },
    {
      "cell_type": "code",
      "execution_count": null,
      "id": "3664fd2e-6683-4fee-bb03-0d8d7eb3e450",
      "metadata": {
        "id": "3664fd2e-6683-4fee-bb03-0d8d7eb3e450",
        "outputId": "83b1e87e-5bdc-4039-b958-e3f427de73cd"
      },
      "outputs": [
        {
          "name": "stdout",
          "output_type": "stream",
          "text": [
            "* * * \n",
            "* * * \n",
            "* * * \n"
          ]
        }
      ],
      "source": [
        "#internal homework>> square of star\n",
        "# * * *\n",
        "# * * *\n",
        "# * * *\n",
        "\n",
        "#please do the homework, dont see the solution:\n",
        "# Square\n",
        "side = 1\n",
        "while side <= 3:\n",
        "    width = 1\n",
        "    while width <= 3:\n",
        "        print(\"*\", end=\" \")\n",
        "        width += 1\n",
        "    print()\n",
        "    side += 1"
      ]
    },
    {
      "cell_type": "code",
      "execution_count": null,
      "id": "16695382-9fe0-4ede-b43c-cde1cbf09c0f",
      "metadata": {
        "id": "16695382-9fe0-4ede-b43c-cde1cbf09c0f",
        "outputId": "309ef7d8-f89c-4ce4-d6b6-62e4bfe8ee3f"
      },
      "outputs": [
        {
          "name": "stdout",
          "output_type": "stream",
          "text": [
            "1\n",
            "2\n",
            "4\n",
            "5\n",
            "6\n",
            "8\n",
            "9\n"
          ]
        }
      ],
      "source": [
        "#conditionals with for loops\n",
        "number = [1, 2, 3, 4, 5, 6, 7, 8, 9]\n",
        "for num in number:\n",
        "    if (num == 3) or (num == 7):\n",
        "        continue\n",
        "    print(num)"
      ]
    },
    {
      "cell_type": "code",
      "execution_count": null,
      "id": "92d6026f-f563-4331-903d-ff15d17b2a5b",
      "metadata": {
        "id": "92d6026f-f563-4331-903d-ff15d17b2a5b",
        "outputId": "e9d23351-fb21-40f8-db8b-9c4303070b1e"
      },
      "outputs": [
        {
          "name": "stdout",
          "output_type": "stream",
          "text": [
            "1\n",
            "2\n"
          ]
        }
      ],
      "source": [
        "number = [1, 2, 3, 4, 5, 6, 7, 8, 9]\n",
        "for num in number:\n",
        "    if (num == 3) or (num == 7):\n",
        "        break\n",
        "    print(num)"
      ]
    },
    {
      "cell_type": "code",
      "execution_count": null,
      "id": "93314063-6377-4fef-ae8b-b5114ca30e69",
      "metadata": {
        "id": "93314063-6377-4fef-ae8b-b5114ca30e69",
        "outputId": "3a467b34-36d9-4484-9357-94610cc0c905"
      },
      "outputs": [
        {
          "name": "stdout",
          "output_type": "stream",
          "text": [
            "0\n",
            "2\n",
            "4\n",
            "6\n",
            "8\n"
          ]
        }
      ],
      "source": [
        "#print the even no\n",
        "for i in range(10):\n",
        "    if i%2 != 0:\n",
        "        continue\n",
        "    print(i)"
      ]
    },
    {
      "cell_type": "code",
      "execution_count": null,
      "id": "829f1549-6547-4ad0-aa35-dfa96ee0c92f",
      "metadata": {
        "id": "829f1549-6547-4ad0-aa35-dfa96ee0c92f",
        "outputId": "c1f976be-d2a9-4bfa-8e02-eec71cbf40fa"
      },
      "outputs": [
        {
          "name": "stdout",
          "output_type": "stream",
          "text": [
            "1\n",
            "3\n",
            "5\n",
            "7\n",
            "9\n"
          ]
        }
      ],
      "source": [
        "#print the odd no\n",
        "for i in range(10):\n",
        "    if i%2 == 0:\n",
        "        continue\n",
        "    print(i)"
      ]
    },
    {
      "cell_type": "code",
      "execution_count": null,
      "id": "84a8ccd8-9cb9-45e3-912a-568ee3a69fe4",
      "metadata": {
        "id": "84a8ccd8-9cb9-45e3-912a-568ee3a69fe4",
        "outputId": "e38eb865-46c6-4df5-b081-fb4f8508ebe4",
        "colab": {
          "base_uri": "https://localhost:8080/"
        }
      },
      "outputs": [
        {
          "output_type": "stream",
          "name": "stdout",
          "text": [
            "1 * 1 = 1\n",
            "1 * 2 = 2\n",
            "1 * 3 = 3\n",
            "1 * 4 = 4\n",
            "1 * 5 = 5\n",
            "1 * 6 = 6\n",
            "1 * 7 = 7\n",
            "1 * 8 = 8\n",
            "1 * 9 = 9\n",
            "1 * 10 = 10\n",
            "\n",
            "2 * 1 = 2\n",
            "2 * 2 = 4\n",
            "2 * 3 = 6\n",
            "2 * 4 = 8\n",
            "2 * 5 = 10\n",
            "2 * 6 = 12\n",
            "2 * 7 = 14\n",
            "2 * 8 = 16\n",
            "2 * 9 = 18\n",
            "2 * 10 = 20\n",
            "\n"
          ]
        }
      ],
      "source": [
        "#multiplication table\n",
        "for i in range(1, 3):\n",
        "    for j in range(1, 11):\n",
        "        product = i * j\n",
        "        print(f\"{i} * {j} = {product}\")\n",
        "    print()"
      ]
    },
    {
      "cell_type": "code",
      "source": [],
      "metadata": {
        "id": "RWoHM59rQwqK"
      },
      "id": "RWoHM59rQwqK",
      "execution_count": null,
      "outputs": []
    },
    {
      "cell_type": "code",
      "execution_count": null,
      "id": "8a743d31-0df1-47b8-9fdc-49b53a1ada26",
      "metadata": {
        "id": "8a743d31-0df1-47b8-9fdc-49b53a1ada26",
        "outputId": "9abc51ad-933a-468a-8bbb-7d53de6610f8"
      },
      "outputs": [
        {
          "name": "stdout",
          "output_type": "stream",
          "text": [
            "Hello world\n"
          ]
        }
      ],
      "source": [
        "print(\"Hello world\")"
      ]
    },
    {
      "cell_type": "code",
      "execution_count": null,
      "id": "83c1660e-e39f-476b-b79c-063a6a208d1a",
      "metadata": {
        "id": "83c1660e-e39f-476b-b79c-063a6a208d1a",
        "colab": {
          "base_uri": "https://localhost:8080/"
        },
        "outputId": "2ed6b74e-5a6b-4cb0-91a4-c7f2ae4502b8"
      },
      "outputs": [
        {
          "output_type": "stream",
          "name": "stdout",
          "text": [
            " 1 * 1 = 1 \n",
            " 1 * 2 = 2 \n",
            " 1 * 3 = 3 \n",
            " 1 * 4 = 4 \n",
            " 2 * 1 = 2 \n",
            " 2 * 2 = 4 \n",
            " 2 * 3 = 6 \n",
            " 2 * 4 = 8 \n",
            " 3 * 1 = 3 \n",
            " 3 * 2 = 6 \n",
            " 3 * 3 = 9 \n",
            " 3 * 4 = 12 \n",
            " 4 * 1 = 4 \n",
            " 4 * 2 = 8 \n",
            " 4 * 3 = 12 \n",
            " 4 * 4 = 16 \n",
            "\n"
          ]
        }
      ],
      "source": [
        "for i in range(1 ,5):\n",
        "  for j in range(1 , 5):\n",
        "    product = i * j\n",
        "    print(f\" {i} * {j} = {product} \")\n",
        "print( )"
      ]
    },
    {
      "cell_type": "code",
      "source": [],
      "metadata": {
        "id": "_RfN3nBPRLYg"
      },
      "id": "_RfN3nBPRLYg",
      "execution_count": null,
      "outputs": []
    },
    {
      "cell_type": "code",
      "source": [],
      "metadata": {
        "id": "ituWHc_1RH_G"
      },
      "id": "ituWHc_1RH_G",
      "execution_count": null,
      "outputs": []
    },
    {
      "cell_type": "code",
      "source": [],
      "metadata": {
        "id": "zdzzdqXIRFcO"
      },
      "id": "zdzzdqXIRFcO",
      "execution_count": null,
      "outputs": []
    },
    {
      "cell_type": "code",
      "source": [],
      "metadata": {
        "id": "HPsMquAXRAib"
      },
      "id": "HPsMquAXRAib",
      "execution_count": null,
      "outputs": []
    },
    {
      "cell_type": "code",
      "source": [],
      "metadata": {
        "id": "xK5i9vdLQ9NU"
      },
      "id": "xK5i9vdLQ9NU",
      "execution_count": null,
      "outputs": []
    },
    {
      "cell_type": "code",
      "source": [],
      "metadata": {
        "id": "Hx4dno1-Q1AI"
      },
      "id": "Hx4dno1-Q1AI",
      "execution_count": null,
      "outputs": []
    },
    {
      "cell_type": "code",
      "source": [],
      "metadata": {
        "id": "2n6bdcxsQofl"
      },
      "id": "2n6bdcxsQofl",
      "execution_count": null,
      "outputs": []
    },
    {
      "cell_type": "code",
      "source": [],
      "metadata": {
        "id": "M1CTDoOQQlcT"
      },
      "id": "M1CTDoOQQlcT",
      "execution_count": null,
      "outputs": []
    }
  ],
  "metadata": {
    "kernelspec": {
      "display_name": "Python 3 (ipykernel)",
      "language": "python",
      "name": "python3"
    },
    "language_info": {
      "codemirror_mode": {
        "name": "ipython",
        "version": 3
      },
      "file_extension": ".py",
      "mimetype": "text/x-python",
      "name": "python",
      "nbconvert_exporter": "python",
      "pygments_lexer": "ipython3",
      "version": "3.10.8"
    },
    "colab": {
      "provenance": []
    }
  },
  "nbformat": 4,
  "nbformat_minor": 5
}